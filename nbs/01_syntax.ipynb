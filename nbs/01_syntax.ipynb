{
 "cells": [
  {
   "cell_type": "markdown",
   "id": "c6ab2cb4",
   "metadata": {},
   "source": [
    "# syntax\n",
    "\n",
    "> Converting a simple language into VSAs"
   ]
  },
  {
   "cell_type": "markdown",
   "id": "b5fbbc69",
   "metadata": {},
   "source": [
    "# Arbitrary syntax\n",
    "\n",
    "Previously, we discussed the small language $\\mathcal{L}$ in VSAs."
   ]
  },
  {
   "cell_type": "code",
   "execution_count": null,
   "id": "640ac591",
   "metadata": {},
   "outputs": [],
   "source": [
    "# | hide\n",
    "import nbdev\n",
    "\n",
    "nbdev.nbdev_export()"
   ]
  }
 ],
 "metadata": {
  "kernelspec": {
   "display_name": "python3",
   "language": "python",
   "name": "python3"
  }
 },
 "nbformat": 4,
 "nbformat_minor": 5
}

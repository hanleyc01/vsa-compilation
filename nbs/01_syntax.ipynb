{
 "cells": [
  {
   "cell_type": "markdown",
   "id": "c6ab2cb4",
   "metadata": {},
   "source": [
    "# syntax\n",
    "\n",
    "> Converting a simple language into VSAs"
   ]
  },
  {
   "cell_type": "code",
   "execution_count": null,
   "id": "640ac591",
   "metadata": {},
   "outputs": [],
   "source": [
    "# | hide\n",
    "import nbdev\n",
    "\n",
    "nbdev.nbdev_export()"
   ]
  }
 ],
 "metadata": {
  "kernelspec": {
   "display_name": ".venv",
   "language": "python",
   "name": "python3"
  },
  "language_info": {
   "codemirror_mode": {
    "name": "ipython",
    "version": 3
   },
   "file_extension": ".py",
   "mimetype": "text/x-python",
   "name": "python",
   "nbconvert_exporter": "python",
   "pygments_lexer": "ipython3",
   "version": "3.10.15"
  }
 },
 "nbformat": 4,
 "nbformat_minor": 5
}

{
 "cells": [
  {
   "cell_type": "markdown",
   "id": "9ec3e2f6",
   "metadata": {},
   "source": [
    "# Basics of Interpretation\n",
    "\n",
    "> Now that we have representations, what do we do with them?"
   ]
  },
  {
   "cell_type": "code",
   "execution_count": null,
   "id": "65677689",
   "metadata": {},
   "outputs": [],
   "source": [
    "# | hide\n",
    "import nbdev\n",
    "\n",
    "nbdev.nbdev_export()"
   ]
  }
 ],
 "metadata": {
  "kernelspec": {
   "display_name": ".venv",
   "language": "python",
   "name": "python3"
  },
  "language_info": {
   "name": "python",
   "version": "3.10.15"
  }
 },
 "nbformat": 4,
 "nbformat_minor": 5
}

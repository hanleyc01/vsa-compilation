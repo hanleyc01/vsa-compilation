{
 "cells": [
  {
   "cell_type": "markdown",
   "id": "9ec3e2f6",
   "metadata": {},
   "source": [
    "# Basics of Interpretation\n",
    "\n",
    "> Now that we have representations, what do we do with them?"
   ]
  },
  {
   "cell_type": "code",
   "execution_count": null,
   "id": "65677689",
   "metadata": {},
   "outputs": [],
   "source": [
    "# | hide\n",
    "import nbdev\n",
    "\n",
    "nbdev.nbdev_export()"
   ]
  }
 ],
 "metadata": {
  "kernelspec": {
   "display_name": "python3",
   "language": "python",
   "name": "python3"
  }
 },
 "nbformat": 4,
 "nbformat_minor": 5
}

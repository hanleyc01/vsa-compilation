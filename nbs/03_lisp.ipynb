{
 "cells": [
  {
   "cell_type": "markdown",
   "id": "872fd84c",
   "metadata": {},
   "source": [
    "# Encoding LISP in VSAs\n",
    "\n",
    "> Real world example"
   ]
  },
  {
   "cell_type": "code",
   "execution_count": null,
   "id": "af8560f8",
   "metadata": {},
   "outputs": [],
   "source": [
    "# | hide\n",
    "import nbdev\n",
    "\n",
    "nbdev.nbdev_export()"
   ]
  }
 ],
 "metadata": {},
 "nbformat": 4,
 "nbformat_minor": 5
}

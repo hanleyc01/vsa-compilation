{
 "cells": [
  {
   "cell_type": "markdown",
   "id": "544dd1cb",
   "metadata": {},
   "source": [
    "# Encoding FORTH in VSAs\n",
    "\n",
    "> Another classic"
   ]
  },
  {
   "cell_type": "code",
   "execution_count": null,
   "id": "f387c15a",
   "metadata": {},
   "outputs": [],
   "source": [
    "# | hide\n",
    "import nbdev\n",
    "\n",
    "nbdev.nbdev_export()"
   ]
  }
 ],
 "metadata": {
  "kernelspec": {
   "display_name": ".venv",
   "language": "python",
   "name": "python3"
  },
  "language_info": {
   "name": "python",
   "version": "3.10.15"
  }
 },
 "nbformat": 4,
 "nbformat_minor": 5
}

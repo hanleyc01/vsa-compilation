{
 "cells": [
  {
   "cell_type": "markdown",
   "metadata": {},
   "source": [
    "# Introduction to Compilation with VSAs.\n",
    "\n",
    "> What it is and how to do it."
   ]
  },
  {
   "cell_type": "markdown",
   "metadata": {},
   "source": [
    "This is a primer for the thinking and intuitions behind encoding and interpreting\n",
    "programming languages in Vector-Symbolic Architectures (VSAs), based on \n",
    "Tomkins-Flanagan, *et al.* (2024) and Hanley, *et al.* (2025). \n",
    "\n",
    "We will begin with a short introduction to VSAs, as well as how we can represent\n",
    "syntax with them. Then, we will do a discussion over programming language \n",
    "semantics, and converting these functions to work over high-dimensional vectors.\n",
    "We will then provide two concrete examples: an implementation of an interpreter\n",
    "for a small subset of LISP, as well as an implementation for a FORTH\n",
    "interpreter."
   ]
  },
  {
   "cell_type": "markdown",
   "metadata": {},
   "source": [
    "# References"
   ]
  },
  {
   "cell_type": "markdown",
   "metadata": {},
   "source": [
    "> Tomkins-Flanagan, E., & Kelly, M. A. (2024). Hey Pentti, We Did It!: A Fully Vector-Symbolic Lisp. International Conference on Cognitive Modeling.\n",
    "\n",
    "> Hanley, C., Tomkins-Flanagan, E., & Kelly, M. (2025). Hey Pentti, We Did (More of) It!: A Vector-Symbolic Lisp With Residue Arithmetic. International Joint Conference on Neural Networks."
   ]
  }
 ],
 "metadata": {
  "kernelspec": {
   "display_name": "python3",
   "language": "python",
   "name": "python3"
  }
 },
 "nbformat": 4,
 "nbformat_minor": 4
}

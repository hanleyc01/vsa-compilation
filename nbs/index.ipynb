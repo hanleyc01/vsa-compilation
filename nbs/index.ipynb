{
 "cells": [
  {
   "cell_type": "code",
   "execution_count": null,
   "metadata": {},
   "outputs": [],
   "source": [
    "#| hide\n",
    "from vsa_compilation.vsas import *"
   ]
  },
  {
   "cell_type": "markdown",
   "metadata": {},
   "source": [
    "# vsa-compilation\n",
    "\n",
    "> Compilation of programming languages to VSAs. \n",
    "\n"
   ]
  },
  {
   "cell_type": "markdown",
   "metadata": {},
   "source": [
    "This work is based on \n",
    "Tomkins-Flanagan, *et al.* (2024) and Hanley, *et al.* (2025), which showed that \n",
    "you can encode arbitrary syntax into Vector-Symbolic Architectures (VSAs). \n",
    "Further, you can write the interpreter in terms of the VSAs."
   ]
  },
  {
   "cell_type": "markdown",
   "metadata": {},
   "source": [
    "# References"
   ]
  },
  {
   "cell_type": "markdown",
   "metadata": {},
   "source": []
  }
 ],
 "metadata": {
  "kernelspec": {
   "display_name": "python3",
   "language": "python",
   "name": "python3"
  }
 },
 "nbformat": 4,
 "nbformat_minor": 4
}
